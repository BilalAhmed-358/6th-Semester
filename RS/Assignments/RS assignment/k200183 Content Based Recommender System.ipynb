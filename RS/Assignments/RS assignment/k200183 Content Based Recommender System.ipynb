{
 "cells": [
  {
   "cell_type": "code",
   "execution_count": 4,
   "id": "857bbe71",
   "metadata": {},
   "outputs": [
    {
     "name": "stdout",
     "output_type": "stream",
     "text": [
      "Enter movie nameSudden Death (1995)\n",
      "Top 3 recommended movies for Sudden Death (1995) :\n",
      "['Vigilante Diaries (2016)', 'Invincible Shaolin (1978)', 'Fair Game (1995)']\n"
     ]
    }
   ],
   "source": [
    "import pandas as pd\n",
    "from sklearn.feature_extraction.text import CountVectorizer\n",
    "from sklearn.metrics.pairwise import cosine_similarity\n",
    "\n",
    "movies_df = pd.read_csv(r'C:\\Users\\Bilal\\Desktop\\RS assignment\\ml-latest-small\\movies.csv')\n",
    "\n",
    "vectorizer = CountVectorizer(tokenizer=lambda x: x.split('|'))\n",
    "genre_matrix = vectorizer.fit_transform(movies_df['genres'])\n",
    "\n",
    "genre_similarity = cosine_similarity(genre_matrix)\n",
    "\n",
    "def recommend_movies(movie_name, n_recommendations):\n",
    "    movie_index = movies_df.loc[movies_df['title'] == movie_name].index[0]\n",
    "    \n",
    "    movie_scores = genre_similarity[movie_index]\n",
    "    \n",
    "    top_movies = movie_scores.argsort()[::-1][1:n_recommendations+1]\n",
    "    \n",
    "    return movies_df.loc[top_movies, 'title'].tolist()\n",
    "\n",
    "movie_name = input(\"Enter movie name\")\n",
    "n_recommendations = 3\n",
    "recommendations = recommend_movies(movie_name, n_recommendations)\n",
    "print('Top', n_recommendations, 'recommended movies for', movie_name, ':')\n",
    "print(recommendations)"
   ]
  },
  {
   "cell_type": "code",
   "execution_count": 3,
   "id": "3cf58ce7",
   "metadata": {},
   "outputs": [
    {
     "name": "stdout",
     "output_type": "stream",
     "text": [
      "Enter movie nameSabrina (1995)\n",
      "Top 3 recommended movies for Sabrina (1995) :\n",
      "['When in Rome (2010)', \"Say It Isn't So (2001)\", 'Leap Year (2010)']\n"
     ]
    }
   ],
   "source": []
  },
  {
   "cell_type": "code",
   "execution_count": null,
   "id": "b7b9e26d",
   "metadata": {},
   "outputs": [],
   "source": []
  }
 ],
 "metadata": {
  "kernelspec": {
   "display_name": "Python 3 (ipykernel)",
   "language": "python",
   "name": "python3"
  },
  "language_info": {
   "codemirror_mode": {
    "name": "ipython",
    "version": 3
   },
   "file_extension": ".py",
   "mimetype": "text/x-python",
   "name": "python",
   "nbconvert_exporter": "python",
   "pygments_lexer": "ipython3",
   "version": "3.9.13"
  }
 },
 "nbformat": 4,
 "nbformat_minor": 5
}
