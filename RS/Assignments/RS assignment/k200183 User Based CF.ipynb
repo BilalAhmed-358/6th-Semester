{
 "cells": [
  {
   "cell_type": "code",
   "execution_count": 143,
   "id": "6bb08527",
   "metadata": {},
   "outputs": [
    {
     "name": "stdout",
     "output_type": "stream",
     "text": [
      "Enter the movie name: Tom and Huck (1995)\n",
      "Top-5 recommended movies:\n",
      "Once Were Warriors (1994)\n",
      "Wild Bunch, The (1969)\n",
      "Othello (1995)\n",
      "Dangerous Minds (1995)\n",
      "Hellraiser: Bloodline (1996)\n"
     ]
    },
    {
     "name": "stderr",
     "output_type": "stream",
     "text": [
      "C:\\Users\\Bilal\\AppData\\Local\\Temp\\ipykernel_14248\\2649398282.py:25: RuntimeWarning: invalid value encountered in true_divide\n",
      "  predicted_ratings = user_means + (weighted_sum / sum_of_similarities)\n"
     ]
    }
   ],
   "source": [
    "import pandas as pd\n",
    "import numpy as np\n",
    "from sklearn.metrics.pairwise import cosine_similarity\n",
    "\n",
    "ratings_df = pd.read_csv(r'C:\\Users\\Bilal\\Desktop\\RS assignment\\ml-latest-small\\ratings.csv')\n",
    "movies_df = pd.read_csv(r'C:\\Users\\Bilal\\Desktop\\RS assignment\\ml-latest-small\\movies.csv')\n",
    "movie_ratings_df = pd.merge(ratings_df, movies_df, on='movieId')\n",
    "user_means = movie_ratings_df.groupby('userId')['rating'].mean()\n",
    "movie_ratings_df['rating'] = movie_ratings_df['rating'] - movie_ratings_df['userId'].map(user_means)\n",
    "\n",
    "ratings_matrix = movie_ratings_df.pivot_table(index='userId', columns='title', values='rating')\n",
    "\n",
    "ratings_matrix.fillna(0, inplace=True)\n",
    "\n",
    "user_similarity = cosine_similarity(ratings_matrix)\n",
    "\n",
    "input_movie = input(\"Enter the movie name: \")\n",
    "\n",
    "movie_index = ratings_matrix.columns.get_loc(input_movie)\n",
    "\n",
    "weighted_sum = np.dot(user_similarity, ratings_matrix.iloc[:, movie_index])\n",
    "\n",
    "sum_of_similarities = np.sum(user_similarity, axis=1)\n",
    "\n",
    "predicted_ratings = user_means + (weighted_sum / sum_of_similarities)\n",
    "\n",
    "recommendations = pd.Series(predicted_ratings, index=ratings_matrix.index).sort_values(ascending=False)[:5]\n",
    "\n",
    "print(\"Top-5 recommended movies:\")\n",
    "for i, movie in enumerate(recommendations.index):\n",
    "    print(movies_df.loc[movie].title)\n"
   ]
  },
  {
   "cell_type": "code",
   "execution_count": null,
   "id": "7ba3edab",
   "metadata": {},
   "outputs": [],
   "source": []
  },
  {
   "cell_type": "code",
   "execution_count": null,
   "id": "b06c96fe",
   "metadata": {},
   "outputs": [],
   "source": []
  },
  {
   "cell_type": "code",
   "execution_count": null,
   "id": "98da494d",
   "metadata": {},
   "outputs": [],
   "source": []
  },
  {
   "cell_type": "code",
   "execution_count": null,
   "id": "f9c1909e",
   "metadata": {},
   "outputs": [],
   "source": []
  },
  {
   "cell_type": "code",
   "execution_count": null,
   "id": "b2ab2933",
   "metadata": {},
   "outputs": [],
   "source": []
  },
  {
   "cell_type": "code",
   "execution_count": null,
   "id": "b92036e3",
   "metadata": {},
   "outputs": [],
   "source": []
  },
  {
   "cell_type": "code",
   "execution_count": null,
   "id": "3dbcdd41",
   "metadata": {},
   "outputs": [],
   "source": []
  },
  {
   "cell_type": "code",
   "execution_count": null,
   "id": "e3a75a24",
   "metadata": {},
   "outputs": [],
   "source": []
  },
  {
   "cell_type": "code",
   "execution_count": null,
   "id": "9eee10cf",
   "metadata": {},
   "outputs": [],
   "source": []
  },
  {
   "cell_type": "code",
   "execution_count": null,
   "id": "e9133c5f",
   "metadata": {},
   "outputs": [],
   "source": []
  },
  {
   "cell_type": "code",
   "execution_count": null,
   "id": "90079887",
   "metadata": {},
   "outputs": [],
   "source": []
  },
  {
   "cell_type": "code",
   "execution_count": null,
   "id": "5d2e7dfe",
   "metadata": {},
   "outputs": [],
   "source": []
  },
  {
   "cell_type": "code",
   "execution_count": null,
   "id": "ba496b49",
   "metadata": {},
   "outputs": [],
   "source": []
  },
  {
   "cell_type": "code",
   "execution_count": null,
   "id": "9e98ed00",
   "metadata": {},
   "outputs": [],
   "source": []
  }
 ],
 "metadata": {
  "kernelspec": {
   "display_name": "Python 3 (ipykernel)",
   "language": "python",
   "name": "python3"
  },
  "language_info": {
   "codemirror_mode": {
    "name": "ipython",
    "version": 3
   },
   "file_extension": ".py",
   "mimetype": "text/x-python",
   "name": "python",
   "nbconvert_exporter": "python",
   "pygments_lexer": "ipython3",
   "version": "3.9.13"
  }
 },
 "nbformat": 4,
 "nbformat_minor": 5
}
